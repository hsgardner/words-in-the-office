{
 "cells": [
  {
   "cell_type": "markdown",
   "metadata": {},
   "source": [
    "# Words in The Office \n",
    "\n",
    "Data Source: Redditor/misunderstoodpoetry, https://docs.google.com/spreadsheets/d/18wS5AAwOh8QO95RwHLS95POmSNKA2jjzdt0phrxeAE0/edit#gid=747974534 \n"
   ]
  },
  {
   "cell_type": "markdown",
   "metadata": {},
   "source": [
    "### Counting the Word Frequency\n"
   ]
  },
  {
   "cell_type": "code",
   "execution_count": 1,
   "metadata": {},
   "outputs": [
    {
     "name": "stderr",
     "output_type": "stream",
     "text": [
      "[nltk_data] Downloading package punkt to\n",
      "[nltk_data]     /Users/holliegardner/nltk_data...\n",
      "[nltk_data]   Package punkt is already up-to-date!\n",
      "[nltk_data] Downloading package stopwords to\n",
      "[nltk_data]     /Users/holliegardner/nltk_data...\n",
      "[nltk_data]   Package stopwords is already up-to-date!\n"
     ]
    },
    {
     "name": "stdout",
     "output_type": "stream",
     "text": [
      "Word frequency CSV file has been created at /Users/holliegardner/Desktop/the_office_project/word_frequency.csv\n"
     ]
    }
   ],
   "source": [
    "import pandas as pd\n",
    "from nltk.tokenize import word_tokenize\n",
    "from nltk.corpus import stopwords\n",
    "import nltk\n",
    "from collections import Counter\n",
    "import os\n",
    "\n",
    "current_directory = os.getcwd()\n",
    "\n",
    "# nltk resources\n",
    "nltk.download('punkt')\n",
    "nltk.download('stopwords')\n",
    "\n",
    "# read in data and drop empty lines\n",
    "df = pd.read_csv('/the-office-lines-text.csv')\n",
    "df = df.dropna(subset=['line_text'])\n",
    "\n",
    "# english stop words\n",
    "stop_words = set(stopwords.words('english'))\n",
    "\n",
    "# tokenize and remove the stopwords\n",
    "df['tokens'] = df['line_text'].apply(lambda x: [word for word in word_tokenize(x.lower()) if word not in stop_words and word.isalpha()])\n",
    "\n",
    "# create a single list of words\n",
    "all_tokens = []\n",
    "for tokens in df['tokens']:\n",
    "    all_tokens.extend(tokens)\n",
    "\n",
    "# count the word frequency\n",
    "word_freq = Counter(all_tokens)\n",
    "\n",
    "# create data frame and sort\n",
    "word_freq_df = pd.DataFrame(word_freq.items(), columns=['Word', 'Frequency'])\n",
    "word_freq_df = word_freq_df.sort_values(by='Frequency', ascending=False)\n",
    "\n",
    "# define the new file path and create the csv\n",
    "file_path = os.path.join(current_directory, 'word_frequency.csv')\n",
    "word_freq_df.to_csv(file_path, index=False)\n",
    "\n",
    "print(f\"Completed: CSV filed created at {file_path}\")\n"
   ]
  },
  {
   "cell_type": "markdown",
   "metadata": {},
   "source": [
    "### Grouping Word Frequency By Character for Word Clouds"
   ]
  },
  {
   "cell_type": "code",
   "execution_count": 4,
   "metadata": {},
   "outputs": [
    {
     "name": "stdout",
     "output_type": "stream",
     "text": [
      "Filtered character word frequency CSV file has been created.\n"
     ]
    }
   ],
   "source": [
    "from collections import Counter, defaultdict  \n",
    "\n",
    "# function for counting words by each speacker\n",
    "def count_words(group):\n",
    "    all_words = []\n",
    "    for words in group['tokens']:\n",
    "        all_words.extend(words)\n",
    "    return Counter(all_words)\n",
    "\n",
    "# count the words for each character\n",
    "word_frequency_by_speaker = df.groupby('speaker').apply(count_words)\n",
    "\n",
    "# creating dictionary to hold word counts for each character\n",
    "word_dict = defaultdict(lambda: defaultdict(int))\n",
    "\n",
    "for speaker, counter in word_frequency_by_speaker.items():\n",
    "    for word, count in counter.items():\n",
    "        word_dict[word][speaker] += count\n",
    "\n",
    "# converting dictionary to data frame\n",
    "word_freq_df = pd.DataFrame.from_dict(word_dict, orient='index').fillna(0)\n",
    "\n",
    "# take sum of word counts and filter to speakers with greater than 1,500 words to avoid 700+ character rows\n",
    "speaker_word_totals = word_freq_df.sum(axis=0)\n",
    "filtered_speakers = speaker_word_totals[speaker_word_totals >= 1500].index\n",
    "\n",
    "# Filter the DataFrame to include only these speakers\n",
    "word_freq_df = word_freq_df[filtered_speakers]\n",
    "\n",
    "# export to csv\n",
    "word_freq_df.to_csv('character_word_frequency_filtered.csv')\n"
   ]
  }
 ],
 "metadata": {
  "kernelspec": {
   "display_name": "Python 3",
   "language": "python",
   "name": "python3"
  },
  "language_info": {
   "codemirror_mode": {
    "name": "ipython",
    "version": 3
   },
   "file_extension": ".py",
   "mimetype": "text/x-python",
   "name": "python",
   "nbconvert_exporter": "python",
   "pygments_lexer": "ipython3",
   "version": "3.9.13"
  }
 },
 "nbformat": 4,
 "nbformat_minor": 2
}
